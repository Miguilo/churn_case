{
 "cells": [
  {
   "cell_type": "markdown",
   "metadata": {},
   "source": [
    "A ideia desse notebook é gerar uma modelagem inicial, sem muita sofisticação e ajustes mais finos, não farei otimização de hiperparâmetros e nem calibragem das probabilidades dos modelos, por exemplo."
   ]
  },
  {
   "cell_type": "markdown",
   "metadata": {},
   "source": [
    "# General Imports"
   ]
  },
  {
   "cell_type": "code",
   "execution_count": 110,
   "metadata": {},
   "outputs": [],
   "source": [
    "import pandas as pd\n",
    "import numpy as np\n",
    "\n",
    "from sklearn.tree import DecisionTreeClassifier\n",
    "from sklearn.svm import SVC\n",
    "from sklearn.linear_model import LogisticRegression\n",
    "from sklearn.neighbors import KNeighborsClassifier\n",
    "from sklearn.naive_bayes import CategoricalNB\n",
    "from sklearn.compose import ColumnTransformer\n",
    "from sklearn.preprocessing import OneHotEncoder, MinMaxScaler\n",
    "from sklearn.model_selection import train_test_split\n",
    "from sklearn.metrics import precision_recall_curve, average_precision_score, PrecisionRecallDisplay, RocCurveDisplay, confusion_matrix\n",
    "from sklearn.ensemble import StackingClassifier\n",
    "from sklearn.pipeline import Pipeline\n",
    "\n",
    "import matplotlib.pyplot as plt\n",
    "\n",
    "from xgboost import XGBClassifier"
   ]
  },
  {
   "cell_type": "markdown",
   "metadata": {},
   "source": [
    "# Separando conjunto de treino e teste"
   ]
  },
  {
   "cell_type": "code",
   "execution_count": 38,
   "metadata": {},
   "outputs": [
    {
     "data": {
      "text/html": [
       "<div>\n",
       "<style scoped>\n",
       "    .dataframe tbody tr th:only-of-type {\n",
       "        vertical-align: middle;\n",
       "    }\n",
       "\n",
       "    .dataframe tbody tr th {\n",
       "        vertical-align: top;\n",
       "    }\n",
       "\n",
       "    .dataframe thead th {\n",
       "        text-align: right;\n",
       "    }\n",
       "</style>\n",
       "<table border=\"1\" class=\"dataframe\">\n",
       "  <thead>\n",
       "    <tr style=\"text-align: right;\">\n",
       "      <th></th>\n",
       "      <th>customerID</th>\n",
       "      <th>gender</th>\n",
       "      <th>SeniorCitizen</th>\n",
       "      <th>Partner</th>\n",
       "      <th>Dependents</th>\n",
       "      <th>tenure</th>\n",
       "      <th>PhoneService</th>\n",
       "      <th>MultipleLines</th>\n",
       "      <th>InternetService</th>\n",
       "      <th>OnlineSecurity</th>\n",
       "      <th>OnlineBackup</th>\n",
       "      <th>DeviceProtection</th>\n",
       "      <th>TechSupport</th>\n",
       "      <th>StreamingTV</th>\n",
       "      <th>StreamingMovies</th>\n",
       "      <th>Contract</th>\n",
       "      <th>PaperlessBilling</th>\n",
       "      <th>PaymentMethod</th>\n",
       "      <th>MonthlyCharges</th>\n",
       "      <th>TotalCharges</th>\n",
       "      <th>Churn</th>\n",
       "      <th>custom_cluster</th>\n",
       "    </tr>\n",
       "  </thead>\n",
       "  <tbody>\n",
       "    <tr>\n",
       "      <th>0</th>\n",
       "      <td>7569-NMZYQ</td>\n",
       "      <td>Female</td>\n",
       "      <td>0</td>\n",
       "      <td>Yes</td>\n",
       "      <td>Yes</td>\n",
       "      <td>72</td>\n",
       "      <td>Yes</td>\n",
       "      <td>Yes</td>\n",
       "      <td>Fiber optic</td>\n",
       "      <td>Yes</td>\n",
       "      <td>Yes</td>\n",
       "      <td>Yes</td>\n",
       "      <td>Yes</td>\n",
       "      <td>Yes</td>\n",
       "      <td>Yes</td>\n",
       "      <td>Two year</td>\n",
       "      <td>Yes</td>\n",
       "      <td>Bank transfer (automatic)</td>\n",
       "      <td>118.75</td>\n",
       "      <td>8672.45</td>\n",
       "      <td>0</td>\n",
       "      <td>0</td>\n",
       "    </tr>\n",
       "    <tr>\n",
       "      <th>1</th>\n",
       "      <td>8984-HPEMB</td>\n",
       "      <td>Female</td>\n",
       "      <td>0</td>\n",
       "      <td>No</td>\n",
       "      <td>No</td>\n",
       "      <td>71</td>\n",
       "      <td>Yes</td>\n",
       "      <td>Yes</td>\n",
       "      <td>Fiber optic</td>\n",
       "      <td>Yes</td>\n",
       "      <td>Yes</td>\n",
       "      <td>Yes</td>\n",
       "      <td>Yes</td>\n",
       "      <td>Yes</td>\n",
       "      <td>Yes</td>\n",
       "      <td>Two year</td>\n",
       "      <td>Yes</td>\n",
       "      <td>Electronic check</td>\n",
       "      <td>118.65</td>\n",
       "      <td>8477.60</td>\n",
       "      <td>0</td>\n",
       "      <td>0</td>\n",
       "    </tr>\n",
       "    <tr>\n",
       "      <th>2</th>\n",
       "      <td>5989-AXPUC</td>\n",
       "      <td>Female</td>\n",
       "      <td>0</td>\n",
       "      <td>Yes</td>\n",
       "      <td>No</td>\n",
       "      <td>68</td>\n",
       "      <td>Yes</td>\n",
       "      <td>Yes</td>\n",
       "      <td>Fiber optic</td>\n",
       "      <td>Yes</td>\n",
       "      <td>Yes</td>\n",
       "      <td>Yes</td>\n",
       "      <td>Yes</td>\n",
       "      <td>Yes</td>\n",
       "      <td>Yes</td>\n",
       "      <td>Two year</td>\n",
       "      <td>No</td>\n",
       "      <td>Mailed check</td>\n",
       "      <td>118.60</td>\n",
       "      <td>7990.05</td>\n",
       "      <td>0</td>\n",
       "      <td>0</td>\n",
       "    </tr>\n",
       "    <tr>\n",
       "      <th>3</th>\n",
       "      <td>5734-EJKXG</td>\n",
       "      <td>Female</td>\n",
       "      <td>0</td>\n",
       "      <td>No</td>\n",
       "      <td>No</td>\n",
       "      <td>61</td>\n",
       "      <td>Yes</td>\n",
       "      <td>Yes</td>\n",
       "      <td>Fiber optic</td>\n",
       "      <td>Yes</td>\n",
       "      <td>Yes</td>\n",
       "      <td>Yes</td>\n",
       "      <td>Yes</td>\n",
       "      <td>Yes</td>\n",
       "      <td>Yes</td>\n",
       "      <td>One year</td>\n",
       "      <td>Yes</td>\n",
       "      <td>Electronic check</td>\n",
       "      <td>118.60</td>\n",
       "      <td>7365.70</td>\n",
       "      <td>0</td>\n",
       "      <td>0</td>\n",
       "    </tr>\n",
       "    <tr>\n",
       "      <th>4</th>\n",
       "      <td>8199-ZLLSA</td>\n",
       "      <td>Male</td>\n",
       "      <td>0</td>\n",
       "      <td>No</td>\n",
       "      <td>No</td>\n",
       "      <td>67</td>\n",
       "      <td>Yes</td>\n",
       "      <td>Yes</td>\n",
       "      <td>Fiber optic</td>\n",
       "      <td>Yes</td>\n",
       "      <td>Yes</td>\n",
       "      <td>Yes</td>\n",
       "      <td>Yes</td>\n",
       "      <td>Yes</td>\n",
       "      <td>Yes</td>\n",
       "      <td>One year</td>\n",
       "      <td>Yes</td>\n",
       "      <td>Bank transfer (automatic)</td>\n",
       "      <td>118.35</td>\n",
       "      <td>7804.15</td>\n",
       "      <td>1</td>\n",
       "      <td>0</td>\n",
       "    </tr>\n",
       "  </tbody>\n",
       "</table>\n",
       "</div>"
      ],
      "text/plain": [
       "   customerID  gender  SeniorCitizen  ... TotalCharges Churn  custom_cluster\n",
       "0  7569-NMZYQ  Female              0  ...      8672.45     0               0\n",
       "1  8984-HPEMB  Female              0  ...      8477.60     0               0\n",
       "2  5989-AXPUC  Female              0  ...      7990.05     0               0\n",
       "3  5734-EJKXG  Female              0  ...      7365.70     0               0\n",
       "4  8199-ZLLSA    Male              0  ...      7804.15     1               0\n",
       "\n",
       "[5 rows x 22 columns]"
      ]
     },
     "execution_count": 38,
     "metadata": {},
     "output_type": "execute_result"
    }
   ],
   "source": [
    "customer_churn = pd.read_csv(\"../data/final/customer_churn.csv\")\n",
    "customer_churn[\"Churn\"] = customer_churn[\"Churn\"].map({\"Yes\": 1,\n",
    "                                                       \"No\": 0}) \n",
    "customer_churn.head()"
   ]
  },
  {
   "cell_type": "code",
   "execution_count": 39,
   "metadata": {},
   "outputs": [],
   "source": [
    "X = customer_churn.drop([\"customerID\", \"Churn\"], axis=1)\n",
    "y = customer_churn[\"Churn\"]"
   ]
  },
  {
   "cell_type": "code",
   "execution_count": 40,
   "metadata": {},
   "outputs": [
    {
     "data": {
      "text/plain": [
       "((5625, 20), (1407, 20), (5625,), (1407,))"
      ]
     },
     "execution_count": 40,
     "metadata": {},
     "output_type": "execute_result"
    }
   ],
   "source": [
    "# Mais uma vez, repetindo o exato split realizado no notebook de segmentação do cliente, há bastante dado para não utilizar validação cruzada.\n",
    "X_train, X_test, y_train, y_test = train_test_split(X, y, test_size=0.2, random_state=42, stratify=y)\n",
    "X_train.shape, X_test.shape, y_train.shape, y_test.shape"
   ]
  },
  {
   "cell_type": "code",
   "execution_count": 41,
   "metadata": {},
   "outputs": [],
   "source": [
    "categorical_columns = []\n",
    "numerical_columns = [\"tenure\", \"MonthlyCharges\", \"TotalCharges\"]\n",
    "for i in X_train.columns:\n",
    "    if str(X_train[i].dtype) == \"object\":\n",
    "        categorical_columns.append(i)"
   ]
  },
  {
   "cell_type": "code",
   "execution_count": 46,
   "metadata": {},
   "outputs": [],
   "source": [
    "oh = OneHotEncoder(handle_unknown=\"ignore\")\n",
    "scaling = MinMaxScaler()\n",
    "ct = ColumnTransformer([(\"oh\", oh, categorical_columns), (\"minmax\", scaling, numerical_columns)],\n",
    "                        remainder = \"passthrough\")\n"
   ]
  },
  {
   "cell_type": "code",
   "execution_count": 43,
   "metadata": {},
   "outputs": [
    {
     "data": {
      "text/plain": [
       "Churn\n",
       "0    4130\n",
       "1    1495\n",
       "Name: count, dtype: int64"
      ]
     },
     "execution_count": 43,
     "metadata": {},
     "output_type": "execute_result"
    }
   ],
   "source": [
    "y_train.value_counts()"
   ]
  },
  {
   "cell_type": "markdown",
   "metadata": {},
   "source": [
    "# Modelando"
   ]
  },
  {
   "cell_type": "code",
   "execution_count": 62,
   "metadata": {},
   "outputs": [],
   "source": [
    "# instanciando modelos\n",
    "weights_xgb = y_train.value_counts()[0]/y_train.value_counts()[1]\n",
    "\n",
    "nb = Pipeline([(\"preprocess\", ct),(\"estimator\", CategoricalNB())])\n",
    "knn = Pipeline([(\"preprocess\", ct),(\"estimator\", KNeighborsClassifier())])\n",
    "lr = Pipeline([(\"preprocess\", ct),(\"estimator\", LogisticRegression(class_weight=\"balanced\"))])\n",
    "svm = Pipeline([(\"preprocess\", ct),(\"estimator\", SVC(class_weight=\"balanced\", probability=True))])\n",
    "dt = Pipeline([(\"preprocess\", ct),(\"estimator\", DecisionTreeClassifier(class_weight=\"balanced\"))])\n",
    "xgb = Pipeline([(\"preprocess\", ct),(\"estimator\", XGBClassifier(scale_pos_weight = weights_xgb))])\n",
    "stk = Pipeline([(\"preprocess\", ct),\n",
    "                (\"estimator\", \n",
    "                 StackingClassifier([(\"nb\", CategoricalNB()),\n",
    "                                     (\"knn\", KNeighborsClassifier()),\n",
    "                                     (\"lr\", LogisticRegression(class_weight=\"balanced\")), \n",
    "                                     (\"svm\", SVC(class_weight=\"balanced\", probability=True)), \n",
    "                                     (\"dt\", DecisionTreeClassifier(class_weight=\"balanced\")), \n",
    "                                     (\"xgb\", XGBClassifier(scale_pos_weight = weights_xgb))], \n",
    "                                     final_estimator=LogisticRegression(class_weight=\"balanced\"),\n",
    "                                     n_jobs=6,\n",
    "                                     cv = 10))])"
   ]
  },
  {
   "cell_type": "code",
   "execution_count": 63,
   "metadata": {},
   "outputs": [
    {
     "name": "stdout",
     "output_type": "stream",
     "text": [
      "Average PR Score for model Naive Bayes: 0.62\n",
      "Average PR Score for model KNN: 0.53\n",
      "Average PR Score for model Logistic Regression: 0.66\n",
      "Average PR Score for model SVM: 0.59\n",
      "Average PR Score for model Decision Tree: 0.41\n",
      "Average PR Score for model XGBoost: 0.63\n",
      "Average PR Score for model Stack: 0.67\n"
     ]
    }
   ],
   "source": [
    "models = [nb, knn, lr, svm, dt, xgb, stk]\n",
    "models_name = [\"Naive Bayes\", \"KNN\",\"Logistic Regression\", \"SVM\", \"Decision Tree\", \"XGBoost\", \"Stack\"]\n",
    "\n",
    "for i, j in enumerate(models):\n",
    "    j.fit(X_train, y_train)\n",
    "    y_score_pred = j.predict_proba(X_test)\n",
    "\n",
    "    avg_precision = np.round(average_precision_score(y_test, y_score_pred[:, 1]), 2)\n",
    "    print(f\"Average PR Score for model {models_name[i]}:\", avg_precision)"
   ]
  },
  {
   "cell_type": "markdown",
   "metadata": {},
   "source": [
    "Dessa forma, estarei utilizando o modelo Stack, pois em oportunidades futuras, ele poderá trazer uma melhor performance dado as muitas possibilidades de ajuste de hiperparâmetros."
   ]
  },
  {
   "cell_type": "code",
   "execution_count": 90,
   "metadata": {},
   "outputs": [],
   "source": [
    "# Treinando o modelo stack\n",
    "stk.fit(X_train, y_train)\n",
    "y_score_pred = stk.predict_proba(X_test)\n",
    "\n",
    "precision, recall, thresholds = precision_recall_curve(y_test, y_score_pred[:, 1])\n",
    "ap = average_precision_score(y_test, y_score_pred[:, 1])"
   ]
  },
  {
   "cell_type": "code",
   "execution_count": 91,
   "metadata": {},
   "outputs": [
    {
     "data": {
      "image/png": "[encoded data removed]",
      "text/plain": [
       "<Figure size 800x600 with 1 Axes>"
      ]
     },
     "metadata": {},
     "output_type": "display_data"
    }
   ],
   "source": [
    "plt.figure(figsize=(8, 6))\n",
    "plt.plot(recall, precision, color='b', label=f'AP = {ap:.2f}')\n",
    "plt.plot(np.linspace(0, 1, 20), [0.5 for i in range(0,20)], linestyle = \"--\", color= \"r\", label = \"No Skill Classifier\")\n",
    "plt.xlabel('Recall')\n",
    "plt.ylabel('Precision')\n",
    "plt.title('Curva PR modelo Stack')\n",
    "plt.legend()\n",
    "plt.grid(True)\n",
    "plt.show()"
   ]
  },
  {
   "cell_type": "code",
   "execution_count": 101,
   "metadata": {},
   "outputs": [],
   "source": [
    "dict_pr = {\n",
    "    \"precision\":precision[:-1],\n",
    "    \"recall\":recall[:-1],\n",
    "    \"thresholds\":thresholds\n",
    "}\n",
    "\n",
    "precision_recall_df = pd.DataFrame(dict_pr)\n",
    "precision_recall_df[\"f1_score\"] = 2*(precision_recall_df[\"precision\"] * precision_recall_df[\"recall\"])/(precision_recall_df[\"precision\"] + precision_recall_df[\"recall\"])"
   ]
  },
  {
   "cell_type": "code",
   "execution_count": 102,
   "metadata": {},
   "outputs": [
    {
     "data": {
      "text/html": [
       "<div>\n",
       "<style scoped>\n",
       "    .dataframe tbody tr th:only-of-type {\n",
       "        vertical-align: middle;\n",
       "    }\n",
       "\n",
       "    .dataframe tbody tr th {\n",
       "        vertical-align: top;\n",
       "    }\n",
       "\n",
       "    .dataframe thead th {\n",
       "        text-align: right;\n",
       "    }\n",
       "</style>\n",
       "<table border=\"1\" class=\"dataframe\">\n",
       "  <thead>\n",
       "    <tr style=\"text-align: right;\">\n",
       "      <th></th>\n",
       "      <th>precision</th>\n",
       "      <th>recall</th>\n",
       "      <th>thresholds</th>\n",
       "      <th>f1_score</th>\n",
       "    </tr>\n",
       "  </thead>\n",
       "  <tbody>\n",
       "    <tr>\n",
       "      <th>945</th>\n",
       "      <td>0.592191</td>\n",
       "      <td>0.729947</td>\n",
       "      <td>0.594992</td>\n",
       "      <td>0.653892</td>\n",
       "    </tr>\n",
       "    <tr>\n",
       "      <th>944</th>\n",
       "      <td>0.590909</td>\n",
       "      <td>0.729947</td>\n",
       "      <td>0.594695</td>\n",
       "      <td>0.653110</td>\n",
       "    </tr>\n",
       "    <tr>\n",
       "      <th>947</th>\n",
       "      <td>0.592593</td>\n",
       "      <td>0.727273</td>\n",
       "      <td>0.596849</td>\n",
       "      <td>0.653061</td>\n",
       "    </tr>\n",
       "    <tr>\n",
       "      <th>950</th>\n",
       "      <td>0.594298</td>\n",
       "      <td>0.724599</td>\n",
       "      <td>0.598417</td>\n",
       "      <td>0.653012</td>\n",
       "    </tr>\n",
       "    <tr>\n",
       "      <th>943</th>\n",
       "      <td>0.589633</td>\n",
       "      <td>0.729947</td>\n",
       "      <td>0.593633</td>\n",
       "      <td>0.652330</td>\n",
       "    </tr>\n",
       "    <tr>\n",
       "      <th>...</th>\n",
       "      <td>...</td>\n",
       "      <td>...</td>\n",
       "      <td>...</td>\n",
       "      <td>...</td>\n",
       "    </tr>\n",
       "    <tr>\n",
       "      <th>1401</th>\n",
       "      <td>1.000000</td>\n",
       "      <td>0.010695</td>\n",
       "      <td>0.905538</td>\n",
       "      <td>0.021164</td>\n",
       "    </tr>\n",
       "    <tr>\n",
       "      <th>1400</th>\n",
       "      <td>0.800000</td>\n",
       "      <td>0.010695</td>\n",
       "      <td>0.905510</td>\n",
       "      <td>0.021108</td>\n",
       "    </tr>\n",
       "    <tr>\n",
       "      <th>1402</th>\n",
       "      <td>1.000000</td>\n",
       "      <td>0.008021</td>\n",
       "      <td>0.905656</td>\n",
       "      <td>0.015915</td>\n",
       "    </tr>\n",
       "    <tr>\n",
       "      <th>1403</th>\n",
       "      <td>1.000000</td>\n",
       "      <td>0.005348</td>\n",
       "      <td>0.906814</td>\n",
       "      <td>0.010638</td>\n",
       "    </tr>\n",
       "    <tr>\n",
       "      <th>1404</th>\n",
       "      <td>1.000000</td>\n",
       "      <td>0.002674</td>\n",
       "      <td>0.908365</td>\n",
       "      <td>0.005333</td>\n",
       "    </tr>\n",
       "  </tbody>\n",
       "</table>\n",
       "<p>1405 rows × 4 columns</p>\n",
       "</div>"
      ],
      "text/plain": [
       "      precision    recall  thresholds  f1_score\n",
       "945    0.592191  0.729947    0.594992  0.653892\n",
       "944    0.590909  0.729947    0.594695  0.653110\n",
       "947    0.592593  0.727273    0.596849  0.653061\n",
       "950    0.594298  0.724599    0.598417  0.653012\n",
       "943    0.589633  0.729947    0.593633  0.652330\n",
       "...         ...       ...         ...       ...\n",
       "1401   1.000000  0.010695    0.905538  0.021164\n",
       "1400   0.800000  0.010695    0.905510  0.021108\n",
       "1402   1.000000  0.008021    0.905656  0.015915\n",
       "1403   1.000000  0.005348    0.906814  0.010638\n",
       "1404   1.000000  0.002674    0.908365  0.005333\n",
       "\n",
       "[1405 rows x 4 columns]"
      ]
     },
     "execution_count": 102,
     "metadata": {},
     "output_type": "execute_result"
    }
   ],
   "source": [
    "# Poderíamos escolher um threshold pelo f1 score, mas não é o que faremos.\n",
    "precision_recall_df.sort_values(\"f1_score\", ascending=False)"
   ]
  },
  {
   "cell_type": "code",
   "execution_count": 93,
   "metadata": {},
   "outputs": [
    {
     "data": {
      "image/png": "[encoded data removed]",
      "text/plain": [
       "<Figure size 640x480 with 1 Axes>"
      ]
     },
     "metadata": {},
     "output_type": "display_data"
    }
   ],
   "source": [
    "# Só fazendo um teste rápido do ROC-AUC, parece bom, mas como se trata de um problema de desbalanceamento de classe, realmente precisamos preferir pela Precision Recall\n",
    "display = RocCurveDisplay.from_estimator(stk, X_test, y_test, name=\"Stacked Model\")\n",
    "_ = display.ax_.set_title(\"ROC curve\")\n",
    "plt.plot(np.linspace(0, 1, 20), np.linspace(0, 1, 20), label=\"Random Classifier\")\n",
    "plt.legend();"
   ]
  },
  {
   "cell_type": "markdown",
   "metadata": {},
   "source": [
    "# Matriz de Custo"
   ]
  },
  {
   "cell_type": "markdown",
   "metadata": {},
   "source": [
    "O que foi feito até então era apenas uma forma de avaliar o modelo que utilizaríamos. Vamos imaginar como poderia vir a se tornar um cálculo de custo ou lucro médio por esse modelo escolhido e vamos basear nosso threshold para maximizar a métrica de lucro."
   ]
  },
  {
   "cell_type": "code",
   "execution_count": 104,
   "metadata": {},
   "outputs": [
    {
     "data": {
      "text/plain": [
       "64.79820819112628"
      ]
     },
     "execution_count": 104,
     "metadata": {},
     "output_type": "execute_result"
    }
   ],
   "source": [
    "customer_churn[\"MonthlyCharges\"].mean()"
   ]
  },
  {
   "cell_type": "code",
   "execution_count": 107,
   "metadata": {},
   "outputs": [
    {
     "data": {
      "text/plain": [
       "540"
      ]
     },
     "execution_count": 107,
     "metadata": {},
     "output_type": "execute_result"
    }
   ],
   "source": [
    "55*12 - 120"
   ]
  },
  {
   "cell_type": "markdown",
   "metadata": {},
   "source": [
    "Obs.: Todos os valores utilizados a seguir referente à média de rentabilidade por cliente são meramente ilustrativos, excetuando pela média de cobrança mensal que obtive pelo meu dataset acima (65 reais -vou considerar em reais pra facilitar a comunicação-). \n",
    "\n",
    "Vamos supor que a estratégia de retenção de clientes que vão realizar churn seja de dar promoção no seu custo mensal por um período de 12 meses (o que é comum no Brasilaqui vou arbitrariamente supor 15% de desconto no serviço, o que implica num disconto de 10 reais aproximadamente no encargo mensal)\n",
    "Dessa forma podemos montar uma matriz de custo com a seguinte estrutura:\n",
    "\n",
    "- Verdadeiros Positivos(Quando eu prevejo que alguém vai churnear e realmente vai churnear) : (65 - 10)x12 de lucro - 10x12 reais de disconto de prejuízo, resultando em lucro de 540 reais(assumindo que esse disconto implique em perda de dinheiro)\n",
    "\n",
    "- Verdadeiros Negativos (Quando prevejo que não haverá churn e o cliente realmente não realiza churn) : Como aqui não há estratégia de retenção sendo utilizada, isso não implica em nenhum lucro (0 reais).\n",
    "\n",
    "- Falsos Positivos (Quando prevejo que haverá churn, mas não haverá) : Aqui realizamos a estratégia de retenção, mas acaba sendo em vão, então é só o custo associado ao disconto realizado (-10x12 = -120 reais)\n",
    "\n",
    "- Falsos Negativos (Quando prevejo que não haverá churn, porém haverá) : Aqui não realizo estratégia de retenção quando deveria, daí perco 12 meses de receita (65 - 10)x12 = 660, aqui desconsidero o custo associado à promoção pois não estou efetivamente aplicando ela.\n"
   ]
  },
  {
   "cell_type": "markdown",
   "metadata": {},
   "source": [
    "Uma forma de construir uma estimativa do custo de cada uma dessa situações, levando em consideração a performance do modelo seria:\n",
    "\n",
    "Lucro esperado por consumidor $= p(p)*[TPR*b_{TP} + FNR*c_{FN}] + p(n)*[TNR*b_{TN} + FPR*c_{FP}]$"
   ]
  },
  {
   "cell_type": "markdown",
   "metadata": {},
   "source": [
    "Onde:\n",
    "- p(p) e p(n) são as probabilidades de observarmos as classes positivas e negativas respectivamente (aqui será usado apenas uma frequência percentual simples)\n",
    "- TPR, FNR, TNR e FPR são a true positive rate, false negative rate, true negative rate e false positive rate respectivamente\n",
    "- TP, FN, TN e FP são os true positives, false negatives, true negatives e false positives respectiviamente.\n",
    "- b e c indicam o benefício e custo de cada um desses supracitados respectivamente de acordo com o índice.\n",
    "\n",
    "Com os valores que supus, $b_{TP} = 540$, $c_{FN} = -660$, $b_{TN} = 0$ e $c_{FP} = -120$"
   ]
  },
  {
   "cell_type": "code",
   "execution_count": 109,
   "metadata": {},
   "outputs": [
    {
     "data": {
      "text/plain": [
       "Churn\n",
       "0    0.734222\n",
       "1    0.265778\n",
       "Name: proportion, dtype: float64"
      ]
     },
     "execution_count": 109,
     "metadata": {},
     "output_type": "execute_result"
    }
   ],
   "source": [
    "y_train.value_counts(normalize=True)"
   ]
  },
  {
   "cell_type": "markdown",
   "metadata": {},
   "source": [
    "Pela proporção retirada do conjunto de treina acima, $p(p) = 0.26$ e $p(n) = 0.74$, as taxas TPR, FNR, TNR e FPR dependerão do threshold escolhido pelo estimador. Para isso, montarei uma tabela contendo essas 4 variáveis para cada threshold do modelo stack e escolhei aquela que maximize o lucro esperado por consumidor."
   ]
  },
  {
   "cell_type": "code",
   "execution_count": 123,
   "metadata": {},
   "outputs": [],
   "source": [
    "tpr_list = []\n",
    "fnr_list = []\n",
    "tnr_list = []\n",
    "fpr_list = []\n",
    "\n",
    "thresholds = np.linspace(0, 1, 101)\n",
    "\n",
    "for threshold in thresholds:\n",
    "    # Transformando probabilidades em previsões binárias com base no threshold\n",
    "    y_pred = (y_score_pred[:, 1] > threshold).astype(int)\n",
    "    \n",
    "    # Calculando a matriz de confusão\n",
    "    tn, fp, fn, tp = confusion_matrix(y_test, y_pred).ravel()\n",
    "    \n",
    "    # Calculando as métricas\n",
    "    tpr = tp / (tp + fn)  # Taxa de verdadeiros positivos (True Positive Rate)\n",
    "    fnr = fn / (tp + fn)  # Taxa de falsos negativos (False Negative Rate)\n",
    "    tnr = tn / (tn + fp)  # Taxa de verdadeiros negativos (True Negative Rate)\n",
    "    fpr = fp / (tn + fp)  # Taxa de falsos positivos (False Positive Rate)\n",
    "    \n",
    "    # Armazenando os valores nas listas\n",
    "    tpr_list.append(tpr)\n",
    "    fnr_list.append(fnr)\n",
    "    tnr_list.append(tnr)\n",
    "    fpr_list.append(fpr)\n",
    "\n",
    "# Criando um DataFrame para armazenar os resultados\n",
    "results_df = pd.DataFrame({\n",
    "    'Threshold': thresholds,\n",
    "    'TPR': tpr_list,\n",
    "    'FNR': fnr_list,\n",
    "    'TNR': tnr_list,\n",
    "    'FPR': fpr_list\n",
    "})"
   ]
  },
  {
   "cell_type": "code",
   "execution_count": 124,
   "metadata": {},
   "outputs": [],
   "source": [
    "results_df[\"b_tp\"] = 540\n",
    "results_df[\"c_fn\"] = -660\n",
    "results_df[\"b_tn\"] = 0\n",
    "results_df[\"c_fp\"] = -120\n",
    "results_df[\"p_p\"] = 0.26\n",
    "results_df[\"p_n\"] = 0.74"
   ]
  },
  {
   "cell_type": "markdown",
   "metadata": {},
   "source": [
    "Agora calculando o lucro por consumidor esperado para cada threshold:"
   ]
  },
  {
   "cell_type": "code",
   "execution_count": 125,
   "metadata": {},
   "outputs": [],
   "source": [
    "profit_from_positive = results_df[\"p_p\"] * ((results_df[\"TPR\"] * results_df[\"b_tp\"]) + (results_df[\"FNR\"] * results_df[\"c_fn\"]))\n",
    "profit_from_negative = results_df[\"p_n\"] * ((results_df[\"TNR\"] * results_df[\"b_tn\"]) + (results_df[\"FPR\"] * results_df[\"c_fp\"]))\n",
    "results_df[\"expected_profit\"] = profit_from_positive + profit_from_negative"
   ]
  },
  {
   "cell_type": "code",
   "execution_count": 126,
   "metadata": {},
   "outputs": [
    {
     "data": {
      "text/html": [
       "<div>\n",
       "<style scoped>\n",
       "    .dataframe tbody tr th:only-of-type {\n",
       "        vertical-align: middle;\n",
       "    }\n",
       "\n",
       "    .dataframe tbody tr th {\n",
       "        vertical-align: top;\n",
       "    }\n",
       "\n",
       "    .dataframe thead th {\n",
       "        text-align: right;\n",
       "    }\n",
       "</style>\n",
       "<table border=\"1\" class=\"dataframe\">\n",
       "  <thead>\n",
       "    <tr style=\"text-align: right;\">\n",
       "      <th></th>\n",
       "      <th>Threshold</th>\n",
       "      <th>TPR</th>\n",
       "      <th>FNR</th>\n",
       "      <th>TNR</th>\n",
       "      <th>FPR</th>\n",
       "      <th>b_tp</th>\n",
       "      <th>c_fn</th>\n",
       "      <th>b_tn</th>\n",
       "      <th>c_fp</th>\n",
       "      <th>p_p</th>\n",
       "      <th>p_n</th>\n",
       "      <th>expected_profit</th>\n",
       "    </tr>\n",
       "  </thead>\n",
       "  <tbody>\n",
       "    <tr>\n",
       "      <th>15</th>\n",
       "      <td>0.15</td>\n",
       "      <td>0.962567</td>\n",
       "      <td>0.037433</td>\n",
       "      <td>0.428848</td>\n",
       "      <td>0.571152</td>\n",
       "      <td>540</td>\n",
       "      <td>-660</td>\n",
       "      <td>0</td>\n",
       "      <td>-120</td>\n",
       "      <td>0.26</td>\n",
       "      <td>0.74</td>\n",
       "      <td>78.002559</td>\n",
       "    </tr>\n",
       "    <tr>\n",
       "      <th>16</th>\n",
       "      <td>0.16</td>\n",
       "      <td>0.957219</td>\n",
       "      <td>0.042781</td>\n",
       "      <td>0.447241</td>\n",
       "      <td>0.552759</td>\n",
       "      <td>540</td>\n",
       "      <td>-660</td>\n",
       "      <td>0</td>\n",
       "      <td>-120</td>\n",
       "      <td>0.26</td>\n",
       "      <td>0.74</td>\n",
       "      <td>77.967411</td>\n",
       "    </tr>\n",
       "    <tr>\n",
       "      <th>20</th>\n",
       "      <td>0.20</td>\n",
       "      <td>0.938503</td>\n",
       "      <td>0.061497</td>\n",
       "      <td>0.504356</td>\n",
       "      <td>0.495644</td>\n",
       "      <td>540</td>\n",
       "      <td>-660</td>\n",
       "      <td>0</td>\n",
       "      <td>-120</td>\n",
       "      <td>0.26</td>\n",
       "      <td>0.74</td>\n",
       "      <td>77.199669</td>\n",
       "    </tr>\n",
       "    <tr>\n",
       "      <th>21</th>\n",
       "      <td>0.21</td>\n",
       "      <td>0.935829</td>\n",
       "      <td>0.064171</td>\n",
       "      <td>0.512101</td>\n",
       "      <td>0.487899</td>\n",
       "      <td>540</td>\n",
       "      <td>-660</td>\n",
       "      <td>0</td>\n",
       "      <td>-120</td>\n",
       "      <td>0.26</td>\n",
       "      <td>0.74</td>\n",
       "      <td>77.053150</td>\n",
       "    </tr>\n",
       "    <tr>\n",
       "      <th>13</th>\n",
       "      <td>0.13</td>\n",
       "      <td>0.973262</td>\n",
       "      <td>0.026738</td>\n",
       "      <td>0.380445</td>\n",
       "      <td>0.619555</td>\n",
       "      <td>540</td>\n",
       "      <td>-660</td>\n",
       "      <td>0</td>\n",
       "      <td>-120</td>\n",
       "      <td>0.26</td>\n",
       "      <td>0.74</td>\n",
       "      <td>77.041297</td>\n",
       "    </tr>\n",
       "    <tr>\n",
       "      <th>...</th>\n",
       "      <td>...</td>\n",
       "      <td>...</td>\n",
       "      <td>...</td>\n",
       "      <td>...</td>\n",
       "      <td>...</td>\n",
       "      <td>...</td>\n",
       "      <td>...</td>\n",
       "      <td>...</td>\n",
       "      <td>...</td>\n",
       "      <td>...</td>\n",
       "      <td>...</td>\n",
       "      <td>...</td>\n",
       "    </tr>\n",
       "    <tr>\n",
       "      <th>96</th>\n",
       "      <td>0.96</td>\n",
       "      <td>0.000000</td>\n",
       "      <td>1.000000</td>\n",
       "      <td>1.000000</td>\n",
       "      <td>0.000000</td>\n",
       "      <td>540</td>\n",
       "      <td>-660</td>\n",
       "      <td>0</td>\n",
       "      <td>-120</td>\n",
       "      <td>0.26</td>\n",
       "      <td>0.74</td>\n",
       "      <td>-171.600000</td>\n",
       "    </tr>\n",
       "    <tr>\n",
       "      <th>97</th>\n",
       "      <td>0.97</td>\n",
       "      <td>0.000000</td>\n",
       "      <td>1.000000</td>\n",
       "      <td>1.000000</td>\n",
       "      <td>0.000000</td>\n",
       "      <td>540</td>\n",
       "      <td>-660</td>\n",
       "      <td>0</td>\n",
       "      <td>-120</td>\n",
       "      <td>0.26</td>\n",
       "      <td>0.74</td>\n",
       "      <td>-171.600000</td>\n",
       "    </tr>\n",
       "    <tr>\n",
       "      <th>98</th>\n",
       "      <td>0.98</td>\n",
       "      <td>0.000000</td>\n",
       "      <td>1.000000</td>\n",
       "      <td>1.000000</td>\n",
       "      <td>0.000000</td>\n",
       "      <td>540</td>\n",
       "      <td>-660</td>\n",
       "      <td>0</td>\n",
       "      <td>-120</td>\n",
       "      <td>0.26</td>\n",
       "      <td>0.74</td>\n",
       "      <td>-171.600000</td>\n",
       "    </tr>\n",
       "    <tr>\n",
       "      <th>99</th>\n",
       "      <td>0.99</td>\n",
       "      <td>0.000000</td>\n",
       "      <td>1.000000</td>\n",
       "      <td>1.000000</td>\n",
       "      <td>0.000000</td>\n",
       "      <td>540</td>\n",
       "      <td>-660</td>\n",
       "      <td>0</td>\n",
       "      <td>-120</td>\n",
       "      <td>0.26</td>\n",
       "      <td>0.74</td>\n",
       "      <td>-171.600000</td>\n",
       "    </tr>\n",
       "    <tr>\n",
       "      <th>100</th>\n",
       "      <td>1.00</td>\n",
       "      <td>0.000000</td>\n",
       "      <td>1.000000</td>\n",
       "      <td>1.000000</td>\n",
       "      <td>0.000000</td>\n",
       "      <td>540</td>\n",
       "      <td>-660</td>\n",
       "      <td>0</td>\n",
       "      <td>-120</td>\n",
       "      <td>0.26</td>\n",
       "      <td>0.74</td>\n",
       "      <td>-171.600000</td>\n",
       "    </tr>\n",
       "  </tbody>\n",
       "</table>\n",
       "<p>101 rows × 12 columns</p>\n",
       "</div>"
      ],
      "text/plain": [
       "     Threshold       TPR       FNR       TNR  ...  c_fp   p_p   p_n  expected_profit\n",
       "15        0.15  0.962567  0.037433  0.428848  ...  -120  0.26  0.74        78.002559\n",
       "16        0.16  0.957219  0.042781  0.447241  ...  -120  0.26  0.74        77.967411\n",
       "20        0.20  0.938503  0.061497  0.504356  ...  -120  0.26  0.74        77.199669\n",
       "21        0.21  0.935829  0.064171  0.512101  ...  -120  0.26  0.74        77.053150\n",
       "13        0.13  0.973262  0.026738  0.380445  ...  -120  0.26  0.74        77.041297\n",
       "..         ...       ...       ...       ...  ...   ...   ...   ...              ...\n",
       "96        0.96  0.000000  1.000000  1.000000  ...  -120  0.26  0.74      -171.600000\n",
       "97        0.97  0.000000  1.000000  1.000000  ...  -120  0.26  0.74      -171.600000\n",
       "98        0.98  0.000000  1.000000  1.000000  ...  -120  0.26  0.74      -171.600000\n",
       "99        0.99  0.000000  1.000000  1.000000  ...  -120  0.26  0.74      -171.600000\n",
       "100       1.00  0.000000  1.000000  1.000000  ...  -120  0.26  0.74      -171.600000\n",
       "\n",
       "[101 rows x 12 columns]"
      ]
     },
     "execution_count": 126,
     "metadata": {},
     "output_type": "execute_result"
    }
   ],
   "source": [
    "results_df.sort_values(by=\"expected_profit\", ascending=False)"
   ]
  },
  {
   "cell_type": "code",
   "execution_count": 127,
   "metadata": {},
   "outputs": [
    {
     "data": {
      "text/plain": [
       "548496"
      ]
     },
     "execution_count": 127,
     "metadata": {},
     "output_type": "execute_result"
    }
   ],
   "source": [
    "customer_churn.shape[0]*78"
   ]
  },
  {
   "cell_type": "markdown",
   "metadata": {},
   "source": [
    "Daqui vemos que o threshold que gera o maior lucro esperado é o 0.15, com 78 reais por consumidor aproximadamente, se pensarmos em toda nossa base (7032), teríamos um lucro de $78*7032 = 548.496$ de reais. Se comparássemos com um possível modelo que estivesse rodando (um que supusesse que ninguém precisa de estratégia de retenção, ou ainda, um modelo que supusesse que ninguém iria realizar churn - ou que todas as classes previstas fossem da classe majoritária-.), poderia-se observar o modelo de threshold = 1 para simular isso, ou seja que todos os dados fossem classificados como 0, teríamos um lucro esperado de -172 reais por pessoa.\n",
    "\n",
    "Pode-se interpretar esse valor calculado como o valor que se espera perder ou ganhar por utilizar 1 modelo de previsão de churn, no melhor cenário apontei um lucro de 78 reais por pessoa e no pior, um modelo ingênuo, um prejuízo de 172 reais por pessoa. Isso é claro, desconsiderando qualquer lógica mais aprofundada de negócios ou outras variáveis. Essa estimativa pode ser livremente modificável, inclusive seus valores a depender do conhecimento específico da área interessada."
   ]
  }
 ],
 "metadata": {
  "kernelspec": {
   "display_name": "a3_case_env",
   "language": "python",
   "name": "python3"
  },
  "language_info": {
   "codemirror_mode": {
    "name": "ipython",
    "version": 3
   },
   "file_extension": ".py",
   "mimetype": "text/x-python",
   "name": "python",
   "nbconvert_exporter": "python",
   "pygments_lexer": "ipython3",
   "version": "3.11.0"
  }
 },
 "nbformat": 4,
 "nbformat_minor": 2
}
