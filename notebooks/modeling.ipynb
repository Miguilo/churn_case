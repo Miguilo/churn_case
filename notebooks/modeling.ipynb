{
 "cells": [
  {
   "cell_type": "markdown",
   "metadata": {},
   "source": [
    "A ideia desse notebook é gerar uma modelagem inicial, sem muita sofisticação e ajustes mais finos, não farei otimização de hiperparâmetros e nem calibragem das probabilidades dos modelos, por exemplo."
   ]
  },
  {
   "cell_type": "markdown",
   "metadata": {},
   "source": [
    "# General Imports"
   ]
  },
  {
   "cell_type": "code",
   "execution_count": 1,
   "metadata": {},
   "outputs": [],
   "source": [
    "import pandas as pd\n",
    "import numpy as np\n",
    "\n",
    "from sklearn.tree import DecisionTreeClassifier\n",
    "from sklearn.svm import SVC\n",
    "from sklearn.linear_model import LogisticRegression\n",
    "from sklearn.neighbors import KNeighborsClassifier\n",
    "from sklearn.naive_bayes import CategoricalNB\n",
    "from sklearn.compose import ColumnTransformer\n",
    "from sklearn.preprocessing import OneHotEncoder, MinMaxScaler\n",
    "from sklearn.model_selection import train_test_split\n",
    "from sklearn.metrics import precision_recall_curve, average_precision_score, PrecisionRecallDisplay, RocCurveDisplay, confusion_matrix\n",
    "from sklearn.ensemble import StackingClassifier\n",
    "from sklearn.pipeline import Pipeline\n",
    "\n",
    "import matplotlib.pyplot as plt\n",
    "\n",
    "from xgboost import XGBClassifier"
   ]
  },
  {
   "cell_type": "markdown",
   "metadata": {},
   "source": [
    "# Separando conjunto de treino e teste"
   ]
  },
  {
   "cell_type": "code",
   "execution_count": 2,
   "metadata": {},
   "outputs": [
    {
     "data": {
      "text/html": [
       "<div>\n",
       "<style scoped>\n",
       "    .dataframe tbody tr th:only-of-type {\n",
       "        vertical-align: middle;\n",
       "    }\n",
       "\n",
       "    .dataframe tbody tr th {\n",
       "        vertical-align: top;\n",
       "    }\n",
       "\n",
       "    .dataframe thead th {\n",
       "        text-align: right;\n",
       "    }\n",
       "</style>\n",
       "<table border=\"1\" class=\"dataframe\">\n",
       "  <thead>\n",
       "    <tr style=\"text-align: right;\">\n",
       "      <th></th>\n",
       "      <th>customerID</th>\n",
       "      <th>gender</th>\n",
       "      <th>SeniorCitizen</th>\n",
       "      <th>Partner</th>\n",
       "      <th>Dependents</th>\n",
       "      <th>tenure</th>\n",
       "      <th>PhoneService</th>\n",
       "      <th>MultipleLines</th>\n",
       "      <th>InternetService</th>\n",
       "      <th>OnlineSecurity</th>\n",
       "      <th>...</th>\n",
       "      <th>TechSupport</th>\n",
       "      <th>StreamingTV</th>\n",
       "      <th>StreamingMovies</th>\n",
       "      <th>Contract</th>\n",
       "      <th>PaperlessBilling</th>\n",
       "      <th>PaymentMethod</th>\n",
       "      <th>MonthlyCharges</th>\n",
       "      <th>TotalCharges</th>\n",
       "      <th>Churn</th>\n",
       "      <th>custom_cluster</th>\n",
       "    </tr>\n",
       "  </thead>\n",
       "  <tbody>\n",
       "    <tr>\n",
       "      <th>0</th>\n",
       "      <td>7569-NMZYQ</td>\n",
       "      <td>Female</td>\n",
       "      <td>0</td>\n",
       "      <td>Yes</td>\n",
       "      <td>Yes</td>\n",
       "      <td>72</td>\n",
       "      <td>Yes</td>\n",
       "      <td>Yes</td>\n",
       "      <td>Fiber optic</td>\n",
       "      <td>Yes</td>\n",
       "      <td>...</td>\n",
       "      <td>Yes</td>\n",
       "      <td>Yes</td>\n",
       "      <td>Yes</td>\n",
       "      <td>Two year</td>\n",
       "      <td>Yes</td>\n",
       "      <td>Bank transfer (automatic)</td>\n",
       "      <td>118.75</td>\n",
       "      <td>8672.45</td>\n",
       "      <td>0</td>\n",
       "      <td>0</td>\n",
       "    </tr>\n",
       "    <tr>\n",
       "      <th>1</th>\n",
       "      <td>8984-HPEMB</td>\n",
       "      <td>Female</td>\n",
       "      <td>0</td>\n",
       "      <td>No</td>\n",
       "      <td>No</td>\n",
       "      <td>71</td>\n",
       "      <td>Yes</td>\n",
       "      <td>Yes</td>\n",
       "      <td>Fiber optic</td>\n",
       "      <td>Yes</td>\n",
       "      <td>...</td>\n",
       "      <td>Yes</td>\n",
       "      <td>Yes</td>\n",
       "      <td>Yes</td>\n",
       "      <td>Two year</td>\n",
       "      <td>Yes</td>\n",
       "      <td>Electronic check</td>\n",
       "      <td>118.65</td>\n",
       "      <td>8477.60</td>\n",
       "      <td>0</td>\n",
       "      <td>0</td>\n",
       "    </tr>\n",
       "    <tr>\n",
       "      <th>2</th>\n",
       "      <td>5989-AXPUC</td>\n",
       "      <td>Female</td>\n",
       "      <td>0</td>\n",
       "      <td>Yes</td>\n",
       "      <td>No</td>\n",
       "      <td>68</td>\n",
       "      <td>Yes</td>\n",
       "      <td>Yes</td>\n",
       "      <td>Fiber optic</td>\n",
       "      <td>Yes</td>\n",
       "      <td>...</td>\n",
       "      <td>Yes</td>\n",
       "      <td>Yes</td>\n",
       "      <td>Yes</td>\n",
       "      <td>Two year</td>\n",
       "      <td>No</td>\n",
       "      <td>Mailed check</td>\n",
       "      <td>118.60</td>\n",
       "      <td>7990.05</td>\n",
       "      <td>0</td>\n",
       "      <td>0</td>\n",
       "    </tr>\n",
       "    <tr>\n",
       "      <th>3</th>\n",
       "      <td>5734-EJKXG</td>\n",
       "      <td>Female</td>\n",
       "      <td>0</td>\n",
       "      <td>No</td>\n",
       "      <td>No</td>\n",
       "      <td>61</td>\n",
       "      <td>Yes</td>\n",
       "      <td>Yes</td>\n",
       "      <td>Fiber optic</td>\n",
       "      <td>Yes</td>\n",
       "      <td>...</td>\n",
       "      <td>Yes</td>\n",
       "      <td>Yes</td>\n",
       "      <td>Yes</td>\n",
       "      <td>One year</td>\n",
       "      <td>Yes</td>\n",
       "      <td>Electronic check</td>\n",
       "      <td>118.60</td>\n",
       "      <td>7365.70</td>\n",
       "      <td>0</td>\n",
       "      <td>0</td>\n",
       "    </tr>\n",
       "    <tr>\n",
       "      <th>4</th>\n",
       "      <td>8199-ZLLSA</td>\n",
       "      <td>Male</td>\n",
       "      <td>0</td>\n",
       "      <td>No</td>\n",
       "      <td>No</td>\n",
       "      <td>67</td>\n",
       "      <td>Yes</td>\n",
       "      <td>Yes</td>\n",
       "      <td>Fiber optic</td>\n",
       "      <td>Yes</td>\n",
       "      <td>...</td>\n",
       "      <td>Yes</td>\n",
       "      <td>Yes</td>\n",
       "      <td>Yes</td>\n",
       "      <td>One year</td>\n",
       "      <td>Yes</td>\n",
       "      <td>Bank transfer (automatic)</td>\n",
       "      <td>118.35</td>\n",
       "      <td>7804.15</td>\n",
       "      <td>1</td>\n",
       "      <td>0</td>\n",
       "    </tr>\n",
       "  </tbody>\n",
       "</table>\n",
       "<p>5 rows × 22 columns</p>\n",
       "</div>"
      ],
      "text/plain": [
       "   customerID  gender  SeniorCitizen Partner Dependents  tenure PhoneService  \\\n",
       "0  7569-NMZYQ  Female              0     Yes        Yes      72          Yes   \n",
       "1  8984-HPEMB  Female              0      No         No      71          Yes   \n",
       "2  5989-AXPUC  Female              0     Yes         No      68          Yes   \n",
       "3  5734-EJKXG  Female              0      No         No      61          Yes   \n",
       "4  8199-ZLLSA    Male              0      No         No      67          Yes   \n",
       "\n",
       "  MultipleLines InternetService OnlineSecurity  ... TechSupport StreamingTV  \\\n",
       "0           Yes     Fiber optic            Yes  ...         Yes         Yes   \n",
       "1           Yes     Fiber optic            Yes  ...         Yes         Yes   \n",
       "2           Yes     Fiber optic            Yes  ...         Yes         Yes   \n",
       "3           Yes     Fiber optic            Yes  ...         Yes         Yes   \n",
       "4           Yes     Fiber optic            Yes  ...         Yes         Yes   \n",
       "\n",
       "  StreamingMovies  Contract PaperlessBilling              PaymentMethod  \\\n",
       "0             Yes  Two year              Yes  Bank transfer (automatic)   \n",
       "1             Yes  Two year              Yes           Electronic check   \n",
       "2             Yes  Two year               No               Mailed check   \n",
       "3             Yes  One year              Yes           Electronic check   \n",
       "4             Yes  One year              Yes  Bank transfer (automatic)   \n",
       "\n",
       "  MonthlyCharges TotalCharges  Churn  custom_cluster  \n",
       "0         118.75      8672.45      0               0  \n",
       "1         118.65      8477.60      0               0  \n",
       "2         118.60      7990.05      0               0  \n",
       "3         118.60      7365.70      0               0  \n",
       "4         118.35      7804.15      1               0  \n",
       "\n",
       "[5 rows x 22 columns]"
      ]
     },
     "execution_count": 2,
     "metadata": {},
     "output_type": "execute_result"
    }
   ],
   "source": [
    "customer_churn = pd.read_csv(\"../data/final/customer_churn.csv\")\n",
    "customer_churn[\"Churn\"] = customer_churn[\"Churn\"].map({\"Yes\": 1,\n",
    "                                                       \"No\": 0}) \n",
    "customer_churn.head()"
   ]
  },
  {
   "cell_type": "code",
   "execution_count": 3,
   "metadata": {},
   "outputs": [],
   "source": [
    "X = customer_churn.drop([\"customerID\", \"Churn\"], axis=1)\n",
    "y = customer_churn[\"Churn\"]"
   ]
  },
  {
   "cell_type": "code",
   "execution_count": 4,
   "metadata": {},
   "outputs": [
    {
     "data": {
      "text/plain": [
       "((5625, 20), (1407, 20), (5625,), (1407,))"
      ]
     },
     "execution_count": 4,
     "metadata": {},
     "output_type": "execute_result"
    }
   ],
   "source": [
    "# Mais uma vez, repetindo o exato split realizado no notebook de segmentação do cliente, há bastante dado para não utilizar validação cruzada.\n",
    "X_train, X_test, y_train, y_test = train_test_split(X, y, test_size=0.2, random_state=42, stratify=y)\n",
    "X_train.shape, X_test.shape, y_train.shape, y_test.shape"
   ]
  },
  {
   "cell_type": "code",
   "execution_count": 5,
   "metadata": {},
   "outputs": [],
   "source": [
    "categorical_columns = []\n",
    "numerical_columns = [\"tenure\", \"MonthlyCharges\", \"TotalCharges\"]\n",
    "for i in X_train.columns:\n",
    "    if str(X_train[i].dtype) == \"object\":\n",
    "        categorical_columns.append(i)"
   ]
  },
  {
   "cell_type": "code",
   "execution_count": 6,
   "metadata": {},
   "outputs": [],
   "source": [
    "oh = OneHotEncoder(handle_unknown=\"ignore\")\n",
    "scaling = MinMaxScaler()\n",
    "ct = ColumnTransformer([(\"oh\", oh, categorical_columns), (\"minmax\", scaling, numerical_columns)],\n",
    "                        remainder = \"passthrough\")\n"
   ]
  },
  {
   "cell_type": "code",
   "execution_count": 7,
   "metadata": {},
   "outputs": [
    {
     "data": {
      "text/plain": [
       "Churn\n",
       "0    4130\n",
       "1    1495\n",
       "Name: count, dtype: int64"
      ]
     },
     "execution_count": 7,
     "metadata": {},
     "output_type": "execute_result"
    }
   ],
   "source": [
    "y_train.value_counts()"
   ]
  },
  {
   "cell_type": "markdown",
   "metadata": {},
   "source": [
    "# Modelando"
   ]
  },
  {
   "cell_type": "code",
   "execution_count": 8,
   "metadata": {},
   "outputs": [],
   "source": [
    "# instanciando modelos\n",
    "weights_xgb = y_train.value_counts()[0]/y_train.value_counts()[1]\n",
    "\n",
    "nb = Pipeline([(\"preprocess\", ct),(\"estimator\", CategoricalNB())])\n",
    "knn = Pipeline([(\"preprocess\", ct),(\"estimator\", KNeighborsClassifier())])\n",
    "lr = Pipeline([(\"preprocess\", ct),(\"estimator\", LogisticRegression(class_weight=\"balanced\"))])\n",
    "svm = Pipeline([(\"preprocess\", ct),(\"estimator\", SVC(class_weight=\"balanced\", probability=True))])\n",
    "dt = Pipeline([(\"preprocess\", ct),(\"estimator\", DecisionTreeClassifier(class_weight=\"balanced\"))])\n",
    "xgb = Pipeline([(\"preprocess\", ct),(\"estimator\", XGBClassifier(scale_pos_weight = weights_xgb))])\n",
    "stk = Pipeline([(\"preprocess\", ct),\n",
    "                (\"estimator\", \n",
    "                 StackingClassifier([(\"nb\", CategoricalNB()),\n",
    "                                     (\"knn\", KNeighborsClassifier()),\n",
    "                                     (\"lr\", LogisticRegression(class_weight=\"balanced\")), \n",
    "                                     (\"svm\", SVC(class_weight=\"balanced\", probability=True)), \n",
    "                                     (\"dt\", DecisionTreeClassifier(class_weight=\"balanced\")), \n",
    "                                     (\"xgb\", XGBClassifier(scale_pos_weight = weights_xgb))], \n",
    "                                     final_estimator=LogisticRegression(class_weight=\"balanced\"),\n",
    "                                     n_jobs=6,\n",
    "                                     cv = 10))])"
   ]
  },
  {
   "cell_type": "code",
   "execution_count": 9,
   "metadata": {},
   "outputs": [
    {
     "name": "stdout",
     "output_type": "stream",
     "text": [
      "Average PR Score for model Naive Bayes: 0.62\n",
      "Average PR Score for model KNN: 0.53\n"
     ]
    },
    {
     "name": "stdout",
     "output_type": "stream",
     "text": [
      "Average PR Score for model Logistic Regression: 0.66\n",
      "Average PR Score for model SVM: 0.59\n",
      "Average PR Score for model Decision Tree: 0.42\n",
      "Average PR Score for model XGBoost: 0.63\n",
      "Average PR Score for model Stack: 0.67\n"
     ]
    }
   ],
   "source": [
    "models = [nb, knn, lr, svm, dt, xgb, stk]\n",
    "models_name = [\"Naive Bayes\", \"KNN\",\"Logistic Regression\", \"SVM\", \"Decision Tree\", \"XGBoost\", \"Stack\"]\n",
    "\n",
    "for i, j in enumerate(models):\n",
    "    j.fit(X_train, y_train)\n",
    "    y_score_pred = j.predict_proba(X_test)\n",
    "\n",
    "    avg_precision = np.round(average_precision_score(y_test, y_score_pred[:, 1]), 2)\n",
    "    print(f\"Average PR Score for model {models_name[i]}:\", avg_precision)"
   ]
  },
  {
   "cell_type": "markdown",
   "metadata": {},
   "source": [
    "Dessa forma, estarei utilizando o modelo Stack, pois em oportunidades futuras, ele poderá trazer uma melhor performance dado as muitas possibilidades de ajuste de hiperparâmetros."
   ]
  },
  {
   "cell_type": "code",
   "execution_count": 10,
   "metadata": {},
   "outputs": [],
   "source": [
    "# Treinando o modelo stack\n",
    "stk.fit(X_train, y_train)\n",
    "y_score_pred = stk.predict_proba(X_test)\n",
    "\n",
    "precision, recall, thresholds = precision_recall_curve(y_test, y_score_pred[:, 1])\n",
    "ap = average_precision_score(y_test, y_score_pred[:, 1])"
   ]
  },
  {
   "cell_type": "code",
   "execution_count": 11,
   "metadata": {},
   "outputs": [
    {
     "data": {
      "image/png": "[encoded data removed]",
      "text/plain": [
       "<Figure size 800x600 with 1 Axes>"
      ]
     },
     "metadata": {},
     "output_type": "display_data"
    }
   ],
   "source": [
    "plt.figure(figsize=(8, 6))\n",
    "plt.plot(recall, precision, color='b', label=f'AP = {ap:.2f}')\n",
    "plt.plot(np.linspace(0, 1, 20), [0.5 for i in range(0,20)], linestyle = \"--\", color= \"r\", label = \"No Skill Classifier\")\n",
    "plt.xlabel('Recall')\n",
    "plt.ylabel('Precision')\n",
    "plt.title('Curva PR modelo Stack')\n",
    "plt.legend()\n",
    "plt.grid(True)\n",
    "plt.show()"
   ]
  },
  {
   "cell_type": "code",
   "execution_count": 12,
   "metadata": {},
   "outputs": [],
   "source": [
    "dict_pr = {\n",
    "    \"precision\":precision[:-1],\n",
    "    \"recall\":recall[:-1],\n",
    "    \"thresholds\":thresholds\n",
    "}\n",
    "\n",
    "precision_recall_df = pd.DataFrame(dict_pr)\n",
    "precision_recall_df[\"f1_score\"] = 2*(precision_recall_df[\"precision\"] * precision_recall_df[\"recall\"])/(precision_recall_df[\"precision\"] + precision_recall_df[\"recall\"])"
   ]
  },
  {
   "cell_type": "code",
   "execution_count": 13,
   "metadata": {},
   "outputs": [
    {
     "data": {
      "text/html": [
       "<div>\n",
       "<style scoped>\n",
       "    .dataframe tbody tr th:only-of-type {\n",
       "        vertical-align: middle;\n",
       "    }\n",
       "\n",
       "    .dataframe tbody tr th {\n",
       "        vertical-align: top;\n",
       "    }\n",
       "\n",
       "    .dataframe thead th {\n",
       "        text-align: right;\n",
       "    }\n",
       "</style>\n",
       "<table border=\"1\" class=\"dataframe\">\n",
       "  <thead>\n",
       "    <tr style=\"text-align: right;\">\n",
       "      <th></th>\n",
       "      <th>precision</th>\n",
       "      <th>recall</th>\n",
       "      <th>thresholds</th>\n",
       "      <th>f1_score</th>\n",
       "    </tr>\n",
       "  </thead>\n",
       "  <tbody>\n",
       "    <tr>\n",
       "      <th>949</th>\n",
       "      <td>0.595186</td>\n",
       "      <td>0.727273</td>\n",
       "      <td>0.597906</td>\n",
       "      <td>0.654633</td>\n",
       "    </tr>\n",
       "    <tr>\n",
       "      <th>945</th>\n",
       "      <td>0.592191</td>\n",
       "      <td>0.729947</td>\n",
       "      <td>0.595182</td>\n",
       "      <td>0.653892</td>\n",
       "    </tr>\n",
       "    <tr>\n",
       "      <th>948</th>\n",
       "      <td>0.593886</td>\n",
       "      <td>0.727273</td>\n",
       "      <td>0.597353</td>\n",
       "      <td>0.653846</td>\n",
       "    </tr>\n",
       "    <tr>\n",
       "      <th>944</th>\n",
       "      <td>0.590909</td>\n",
       "      <td>0.729947</td>\n",
       "      <td>0.594689</td>\n",
       "      <td>0.653110</td>\n",
       "    </tr>\n",
       "    <tr>\n",
       "      <th>947</th>\n",
       "      <td>0.592593</td>\n",
       "      <td>0.727273</td>\n",
       "      <td>0.597127</td>\n",
       "      <td>0.653061</td>\n",
       "    </tr>\n",
       "    <tr>\n",
       "      <th>...</th>\n",
       "      <td>...</td>\n",
       "      <td>...</td>\n",
       "      <td>...</td>\n",
       "      <td>...</td>\n",
       "    </tr>\n",
       "    <tr>\n",
       "      <th>1401</th>\n",
       "      <td>1.000000</td>\n",
       "      <td>0.010695</td>\n",
       "      <td>0.905711</td>\n",
       "      <td>0.021164</td>\n",
       "    </tr>\n",
       "    <tr>\n",
       "      <th>1400</th>\n",
       "      <td>0.800000</td>\n",
       "      <td>0.010695</td>\n",
       "      <td>0.905677</td>\n",
       "      <td>0.021108</td>\n",
       "    </tr>\n",
       "    <tr>\n",
       "      <th>1402</th>\n",
       "      <td>1.000000</td>\n",
       "      <td>0.008021</td>\n",
       "      <td>0.905822</td>\n",
       "      <td>0.015915</td>\n",
       "    </tr>\n",
       "    <tr>\n",
       "      <th>1403</th>\n",
       "      <td>1.000000</td>\n",
       "      <td>0.005348</td>\n",
       "      <td>0.906970</td>\n",
       "      <td>0.010638</td>\n",
       "    </tr>\n",
       "    <tr>\n",
       "      <th>1404</th>\n",
       "      <td>1.000000</td>\n",
       "      <td>0.002674</td>\n",
       "      <td>0.908511</td>\n",
       "      <td>0.005333</td>\n",
       "    </tr>\n",
       "  </tbody>\n",
       "</table>\n",
       "<p>1405 rows × 4 columns</p>\n",
       "</div>"
      ],
      "text/plain": [
       "      precision    recall  thresholds  f1_score\n",
       "949    0.595186  0.727273    0.597906  0.654633\n",
       "945    0.592191  0.729947    0.595182  0.653892\n",
       "948    0.593886  0.727273    0.597353  0.653846\n",
       "944    0.590909  0.729947    0.594689  0.653110\n",
       "947    0.592593  0.727273    0.597127  0.653061\n",
       "...         ...       ...         ...       ...\n",
       "1401   1.000000  0.010695    0.905711  0.021164\n",
       "1400   0.800000  0.010695    0.905677  0.021108\n",
       "1402   1.000000  0.008021    0.905822  0.015915\n",
       "1403   1.000000  0.005348    0.906970  0.010638\n",
       "1404   1.000000  0.002674    0.908511  0.005333\n",
       "\n",
       "[1405 rows x 4 columns]"
      ]
     },
     "execution_count": 13,
     "metadata": {},
     "output_type": "execute_result"
    }
   ],
   "source": [
    "# Poderíamos escolher um threshold pelo f1 score, mas não é o que faremos.\n",
    "precision_recall_df.sort_values(\"f1_score\", ascending=False)"
   ]
  },
  {
   "cell_type": "code",
   "execution_count": 14,
   "metadata": {},
   "outputs": [
    {
     "data": {
      "image/png": "[encoded data removed]",
      "text/plain": [
       "<Figure size 640x480 with 1 Axes>"
      ]
     },
     "metadata": {},
     "output_type": "display_data"
    }
   ],
   "source": [
    "# Só fazendo um teste rápido do ROC-AUC, parece bom, mas como se trata de um problema de desbalanceamento de classe, realmente precisamos preferir pela Precision Recall\n",
    "display = RocCurveDisplay.from_estimator(stk, X_test, y_test, name=\"Stacked Model\")\n",
    "_ = display.ax_.set_title(\"ROC curve\")\n",
    "plt.plot(np.linspace(0, 1, 20), np.linspace(0, 1, 20), label=\"Random Classifier\")\n",
    "plt.legend();"
   ]
  },
  {
   "cell_type": "markdown",
   "metadata": {},
   "source": [
    "# Matriz de Custo"
   ]
  },
  {
   "cell_type": "markdown",
   "metadata": {},
   "source": [
    "O que foi feito até então era apenas uma forma de avaliar o modelo que utilizaríamos. Vamos imaginar como poderia vir a se tornar um cálculo de custo ou lucro médio por esse modelo escolhido e vamos basear nosso threshold para maximizar a métrica de lucro."
   ]
  },
  {
   "cell_type": "code",
   "execution_count": 15,
   "metadata": {},
   "outputs": [
    {
     "data": {
      "text/plain": [
       "64.79820819112628"
      ]
     },
     "execution_count": 15,
     "metadata": {},
     "output_type": "execute_result"
    }
   ],
   "source": [
    "customer_churn[\"MonthlyCharges\"].mean()"
   ]
  },
  {
   "cell_type": "code",
   "execution_count": 16,
   "metadata": {},
   "outputs": [
    {
     "data": {
      "text/plain": [
       "540"
      ]
     },
     "execution_count": 16,
     "metadata": {},
     "output_type": "execute_result"
    }
   ],
   "source": [
    "55*12 - 120"
   ]
  },
  {
   "cell_type": "markdown",
   "metadata": {},
   "source": [
    "Obs.: Todos os valores utilizados a seguir referente à média de rentabilidade por cliente são meramente ilustrativos, excetuando pela média de cobrança mensal que obtive pelo meu dataset acima (65 reais -vou considerar em reais pra facilitar a comunicação-). \n",
    "\n",
    "Vamos supor que a estratégia de retenção de clientes que vão realizar churn seja de dar promoção no seu custo mensal por um período de 12 meses (o que é comum no Brasilaqui vou arbitrariamente supor 15% de desconto no serviço, o que implica num disconto de 10 reais aproximadamente no encargo mensal)\n",
    "Dessa forma podemos montar uma matriz de custo com a seguinte estrutura:\n",
    "\n",
    "- Verdadeiros Positivos(Quando eu prevejo que alguém vai churnear e realmente vai churnear) : (65 - 10)x12 de lucro, resultando em lucro de 660 reais.\n",
    "\n",
    "- Verdadeiros Negativos (Quando prevejo que não haverá churn e o cliente realmente não realiza churn) : Como aqui não há estratégia de retenção sendo utilizada, isso não implica em nenhum lucro (0 reais).\n",
    "\n",
    "- Falsos Positivos (Quando prevejo que haverá churn, mas não haverá) : Aqui realizamos a estratégia de retenção, mas acaba sendo em vão, então é só o custo associado ao disconto realizado (-10x12 = -120 reais)\n",
    "\n",
    "- Falsos Negativos (Quando prevejo que não haverá churn, porém haverá) : Aqui não realizo estratégia de retenção quando deveria, daí o ganho marginal do modelo nessa situação é 0.\n"
   ]
  },
  {
   "cell_type": "markdown",
   "metadata": {},
   "source": [
    "Uma forma de construir uma estimativa do custo de cada uma dessa situações, levando em consideração a performance do modelo seria:\n",
    "\n",
    "Lucro esperado por consumidor $= p(p)*[TPR*b_{TP} + FNR*c_{FN}] + p(n)*[TNR*b_{TN} + FPR*c_{FP}]$"
   ]
  },
  {
   "cell_type": "markdown",
   "metadata": {},
   "source": [
    "Onde:\n",
    "- p(p) e p(n) são as probabilidades de observarmos as classes positivas e negativas respectivamente (aqui será usado apenas uma frequência percentual simples)\n",
    "- TPR, FNR, TNR e FPR são a true positive rate, false negative rate, true negative rate e false positive rate respectivamente\n",
    "- TP, FN, TN e FP são os true positives, false negatives, true negatives e false positives respectiviamente.\n",
    "- b e c indicam o benefício e custo de cada um desses supracitados respectivamente de acordo com o índice.\n",
    "\n",
    "Com os valores que supus, $b_{TP} = 660$, $c_{FN} = 0$, $b_{TN} = 0$ e $c_{FP} = -120$, dessa forma, os valores associados aos negativos não trazem lucro ou prejuízo diante da premissa que a estratégia padrão era a não promoção para os clientes."
   ]
  },
  {
   "cell_type": "code",
   "execution_count": 17,
   "metadata": {},
   "outputs": [
    {
     "data": {
      "text/plain": [
       "Churn\n",
       "0    0.734222\n",
       "1    0.265778\n",
       "Name: proportion, dtype: float64"
      ]
     },
     "execution_count": 17,
     "metadata": {},
     "output_type": "execute_result"
    }
   ],
   "source": [
    "y_train.value_counts(normalize=True)"
   ]
  },
  {
   "cell_type": "markdown",
   "metadata": {},
   "source": [
    "Pela proporção retirada do conjunto de treina acima, $p(p) = 0.26$ e $p(n) = 0.74$, as taxas TPR, FNR, TNR e FPR dependerão do threshold escolhido pelo estimador. Para isso, montarei uma tabela contendo essas 4 variáveis para cada threshold do modelo stack e escolhei aquela que maximize o lucro esperado por consumidor."
   ]
  },
  {
   "cell_type": "code",
   "execution_count": 18,
   "metadata": {},
   "outputs": [],
   "source": [
    "tpr_list = []\n",
    "fnr_list = []\n",
    "tnr_list = []\n",
    "fpr_list = []\n",
    "\n",
    "thresholds = np.linspace(0, 1, 101)\n",
    "\n",
    "for threshold in thresholds:\n",
    "    # Transformando probabilidades em previsões binárias com base no threshold\n",
    "    y_pred = (y_score_pred[:, 1] > threshold).astype(int)\n",
    "    \n",
    "    # Calculando a matriz de confusão\n",
    "    tn, fp, fn, tp = confusion_matrix(y_test, y_pred).ravel()\n",
    "    \n",
    "    # Calculando as métricas\n",
    "    tpr = tp / (tp + fn)  # Taxa de verdadeiros positivos (True Positive Rate)\n",
    "    fnr = fn / (tp + fn)  # Taxa de falsos negativos (False Negative Rate)\n",
    "    tnr = tn / (tn + fp)  # Taxa de verdadeiros negativos (True Negative Rate)\n",
    "    fpr = fp / (tn + fp)  # Taxa de falsos positivos (False Positive Rate)\n",
    "    \n",
    "    # Armazenando os valores nas listas\n",
    "    tpr_list.append(tpr)\n",
    "    fnr_list.append(fnr)\n",
    "    tnr_list.append(tnr)\n",
    "    fpr_list.append(fpr)\n",
    "\n",
    "# Criando um DataFrame para armazenar os resultados\n",
    "results_df = pd.DataFrame({\n",
    "    'Threshold': thresholds,\n",
    "    'TPR': tpr_list,\n",
    "    'FNR': fnr_list,\n",
    "    'TNR': tnr_list,\n",
    "    'FPR': fpr_list\n",
    "})"
   ]
  },
  {
   "cell_type": "code",
   "execution_count": 19,
   "metadata": {},
   "outputs": [],
   "source": [
    "results_df[\"b_tp\"] = 660\n",
    "results_df[\"c_fn\"] = 0\n",
    "results_df[\"b_tn\"] = 0\n",
    "results_df[\"c_fp\"] = -120\n",
    "results_df[\"p_p\"] = 0.26\n",
    "results_df[\"p_n\"] = 0.74"
   ]
  },
  {
   "cell_type": "markdown",
   "metadata": {},
   "source": [
    "Agora calculando o lucro por consumidor esperado para cada threshold:"
   ]
  },
  {
   "cell_type": "code",
   "execution_count": 24,
   "metadata": {},
   "outputs": [],
   "source": [
    "profit_from_positive = results_df[\"p_p\"] * ((results_df[\"TPR\"] * results_df[\"b_tp\"]) + (results_df[\"FNR\"] * results_df[\"c_fn\"]))\n",
    "profit_from_negative = results_df[\"p_n\"] * ((results_df[\"TNR\"] * results_df[\"b_tn\"]) + (results_df[\"FPR\"] * results_df[\"c_fp\"]))\n",
    "results_df[\"expected_profit\"] = profit_from_positive + profit_from_negative\n",
    "results_df[\"expected_monthly_profit\"] = results_df[\"expected_profit\"]/12"
   ]
  },
  {
   "cell_type": "code",
   "execution_count": 25,
   "metadata": {},
   "outputs": [
    {
     "data": {
      "text/html": [
       "<div>\n",
       "<style scoped>\n",
       "    .dataframe tbody tr th:only-of-type {\n",
       "        vertical-align: middle;\n",
       "    }\n",
       "\n",
       "    .dataframe tbody tr th {\n",
       "        vertical-align: top;\n",
       "    }\n",
       "\n",
       "    .dataframe thead th {\n",
       "        text-align: right;\n",
       "    }\n",
       "</style>\n",
       "<table border=\"1\" class=\"dataframe\">\n",
       "  <thead>\n",
       "    <tr style=\"text-align: right;\">\n",
       "      <th></th>\n",
       "      <th>Threshold</th>\n",
       "      <th>TPR</th>\n",
       "      <th>FNR</th>\n",
       "      <th>TNR</th>\n",
       "      <th>FPR</th>\n",
       "      <th>b_tp</th>\n",
       "      <th>c_fn</th>\n",
       "      <th>b_tn</th>\n",
       "      <th>c_fp</th>\n",
       "      <th>p_p</th>\n",
       "      <th>p_n</th>\n",
       "      <th>expected_profit</th>\n",
       "      <th>expected_monthly_profit</th>\n",
       "    </tr>\n",
       "  </thead>\n",
       "  <tbody>\n",
       "    <tr>\n",
       "      <th>29</th>\n",
       "      <td>0.29</td>\n",
       "      <td>0.906417</td>\n",
       "      <td>0.093583</td>\n",
       "      <td>0.592449</td>\n",
       "      <td>0.407551</td>\n",
       "      <td>660</td>\n",
       "      <td>0</td>\n",
       "      <td>0</td>\n",
       "      <td>-120</td>\n",
       "      <td>0.26</td>\n",
       "      <td>0.74</td>\n",
       "      <td>119.350663</td>\n",
       "      <td>9.945889</td>\n",
       "    </tr>\n",
       "    <tr>\n",
       "      <th>28</th>\n",
       "      <td>0.28</td>\n",
       "      <td>0.911765</td>\n",
       "      <td>0.088235</td>\n",
       "      <td>0.578896</td>\n",
       "      <td>0.421104</td>\n",
       "      <td>660</td>\n",
       "      <td>0</td>\n",
       "      <td>0</td>\n",
       "      <td>-120</td>\n",
       "      <td>0.26</td>\n",
       "      <td>0.74</td>\n",
       "      <td>119.064825</td>\n",
       "      <td>9.922069</td>\n",
       "    </tr>\n",
       "    <tr>\n",
       "      <th>30</th>\n",
       "      <td>0.30</td>\n",
       "      <td>0.895722</td>\n",
       "      <td>0.104278</td>\n",
       "      <td>0.603098</td>\n",
       "      <td>0.396902</td>\n",
       "      <td>660</td>\n",
       "      <td>0</td>\n",
       "      <td>0</td>\n",
       "      <td>-120</td>\n",
       "      <td>0.26</td>\n",
       "      <td>0.74</td>\n",
       "      <td>118.460965</td>\n",
       "      <td>9.871747</td>\n",
       "    </tr>\n",
       "    <tr>\n",
       "      <th>27</th>\n",
       "      <td>0.27</td>\n",
       "      <td>0.914439</td>\n",
       "      <td>0.085561</td>\n",
       "      <td>0.566312</td>\n",
       "      <td>0.433688</td>\n",
       "      <td>660</td>\n",
       "      <td>0</td>\n",
       "      <td>0</td>\n",
       "      <td>-120</td>\n",
       "      <td>0.26</td>\n",
       "      <td>0.74</td>\n",
       "      <td>118.406127</td>\n",
       "      <td>9.867177</td>\n",
       "    </tr>\n",
       "    <tr>\n",
       "      <th>26</th>\n",
       "      <td>0.26</td>\n",
       "      <td>0.919786</td>\n",
       "      <td>0.080214</td>\n",
       "      <td>0.555663</td>\n",
       "      <td>0.444337</td>\n",
       "      <td>660</td>\n",
       "      <td>0</td>\n",
       "      <td>0</td>\n",
       "      <td>-120</td>\n",
       "      <td>0.26</td>\n",
       "      <td>0.74</td>\n",
       "      <td>118.378179</td>\n",
       "      <td>9.864848</td>\n",
       "    </tr>\n",
       "    <tr>\n",
       "      <th>...</th>\n",
       "      <td>...</td>\n",
       "      <td>...</td>\n",
       "      <td>...</td>\n",
       "      <td>...</td>\n",
       "      <td>...</td>\n",
       "      <td>...</td>\n",
       "      <td>...</td>\n",
       "      <td>...</td>\n",
       "      <td>...</td>\n",
       "      <td>...</td>\n",
       "      <td>...</td>\n",
       "      <td>...</td>\n",
       "      <td>...</td>\n",
       "    </tr>\n",
       "    <tr>\n",
       "      <th>96</th>\n",
       "      <td>0.96</td>\n",
       "      <td>0.000000</td>\n",
       "      <td>1.000000</td>\n",
       "      <td>1.000000</td>\n",
       "      <td>0.000000</td>\n",
       "      <td>660</td>\n",
       "      <td>0</td>\n",
       "      <td>0</td>\n",
       "      <td>-120</td>\n",
       "      <td>0.26</td>\n",
       "      <td>0.74</td>\n",
       "      <td>0.000000</td>\n",
       "      <td>0.000000</td>\n",
       "    </tr>\n",
       "    <tr>\n",
       "      <th>97</th>\n",
       "      <td>0.97</td>\n",
       "      <td>0.000000</td>\n",
       "      <td>1.000000</td>\n",
       "      <td>1.000000</td>\n",
       "      <td>0.000000</td>\n",
       "      <td>660</td>\n",
       "      <td>0</td>\n",
       "      <td>0</td>\n",
       "      <td>-120</td>\n",
       "      <td>0.26</td>\n",
       "      <td>0.74</td>\n",
       "      <td>0.000000</td>\n",
       "      <td>0.000000</td>\n",
       "    </tr>\n",
       "    <tr>\n",
       "      <th>98</th>\n",
       "      <td>0.98</td>\n",
       "      <td>0.000000</td>\n",
       "      <td>1.000000</td>\n",
       "      <td>1.000000</td>\n",
       "      <td>0.000000</td>\n",
       "      <td>660</td>\n",
       "      <td>0</td>\n",
       "      <td>0</td>\n",
       "      <td>-120</td>\n",
       "      <td>0.26</td>\n",
       "      <td>0.74</td>\n",
       "      <td>0.000000</td>\n",
       "      <td>0.000000</td>\n",
       "    </tr>\n",
       "    <tr>\n",
       "      <th>99</th>\n",
       "      <td>0.99</td>\n",
       "      <td>0.000000</td>\n",
       "      <td>1.000000</td>\n",
       "      <td>1.000000</td>\n",
       "      <td>0.000000</td>\n",
       "      <td>660</td>\n",
       "      <td>0</td>\n",
       "      <td>0</td>\n",
       "      <td>-120</td>\n",
       "      <td>0.26</td>\n",
       "      <td>0.74</td>\n",
       "      <td>0.000000</td>\n",
       "      <td>0.000000</td>\n",
       "    </tr>\n",
       "    <tr>\n",
       "      <th>100</th>\n",
       "      <td>1.00</td>\n",
       "      <td>0.000000</td>\n",
       "      <td>1.000000</td>\n",
       "      <td>1.000000</td>\n",
       "      <td>0.000000</td>\n",
       "      <td>660</td>\n",
       "      <td>0</td>\n",
       "      <td>0</td>\n",
       "      <td>-120</td>\n",
       "      <td>0.26</td>\n",
       "      <td>0.74</td>\n",
       "      <td>0.000000</td>\n",
       "      <td>0.000000</td>\n",
       "    </tr>\n",
       "  </tbody>\n",
       "</table>\n",
       "<p>101 rows × 13 columns</p>\n",
       "</div>"
      ],
      "text/plain": [
       "     Threshold       TPR       FNR       TNR       FPR  b_tp  c_fn  b_tn  \\\n",
       "29        0.29  0.906417  0.093583  0.592449  0.407551   660     0     0   \n",
       "28        0.28  0.911765  0.088235  0.578896  0.421104   660     0     0   \n",
       "30        0.30  0.895722  0.104278  0.603098  0.396902   660     0     0   \n",
       "27        0.27  0.914439  0.085561  0.566312  0.433688   660     0     0   \n",
       "26        0.26  0.919786  0.080214  0.555663  0.444337   660     0     0   \n",
       "..         ...       ...       ...       ...       ...   ...   ...   ...   \n",
       "96        0.96  0.000000  1.000000  1.000000  0.000000   660     0     0   \n",
       "97        0.97  0.000000  1.000000  1.000000  0.000000   660     0     0   \n",
       "98        0.98  0.000000  1.000000  1.000000  0.000000   660     0     0   \n",
       "99        0.99  0.000000  1.000000  1.000000  0.000000   660     0     0   \n",
       "100       1.00  0.000000  1.000000  1.000000  0.000000   660     0     0   \n",
       "\n",
       "     c_fp   p_p   p_n  expected_profit  expected_monthly_profit  \n",
       "29   -120  0.26  0.74       119.350663                 9.945889  \n",
       "28   -120  0.26  0.74       119.064825                 9.922069  \n",
       "30   -120  0.26  0.74       118.460965                 9.871747  \n",
       "27   -120  0.26  0.74       118.406127                 9.867177  \n",
       "26   -120  0.26  0.74       118.378179                 9.864848  \n",
       "..    ...   ...   ...              ...                      ...  \n",
       "96   -120  0.26  0.74         0.000000                 0.000000  \n",
       "97   -120  0.26  0.74         0.000000                 0.000000  \n",
       "98   -120  0.26  0.74         0.000000                 0.000000  \n",
       "99   -120  0.26  0.74         0.000000                 0.000000  \n",
       "100  -120  0.26  0.74         0.000000                 0.000000  \n",
       "\n",
       "[101 rows x 13 columns]"
      ]
     },
     "execution_count": 25,
     "metadata": {},
     "output_type": "execute_result"
    }
   ],
   "source": [
    "results_df.sort_values(by=\"expected_profit\", ascending=False)"
   ]
  },
  {
   "cell_type": "code",
   "execution_count": 23,
   "metadata": {},
   "outputs": [
    {
     "data": {
      "text/plain": [
       "836808"
      ]
     },
     "execution_count": 23,
     "metadata": {},
     "output_type": "execute_result"
    }
   ],
   "source": [
    "customer_churn.shape[0]*119"
   ]
  },
  {
   "cell_type": "markdown",
   "metadata": {},
   "source": [
    "Daqui vemos que o threshold que gera o maior lucro esperado é o 0.29, com 119 reais por consumidor por ano aproximadamente, se pensarmos em toda nossa base (7032), teríamos um lucro de $119*7032 = 836.808$ de reais. Se comparássemos com um possível modelo que estivesse rodando (um que supusesse que ninguém precisa de estratégia de retenção, ou ainda, um modelo que supusesse que ninguém iria realizar churn - ou que todas as classes previstas fossem da classe majoritária-.), poderia-se observar o modelo de threshold = 1 para simular isso, ou seja que todos os dados fossem classificados como 0, teríamos um lucro esperado para o modelo de 0 reais por pessoa.\n",
    "\n",
    "Pode-se interpretar esse valor calculado como o valor que se espera perder ou ganhar por utilizar 1 modelo de previsão de churn, no melhor cenário apontei um lucro marginal de 119 reais por pessoa por ano e no pior, um modelo ingênuo, o lucro seria de 0 por pessoa por ano. Isso é claro, desconsiderando qualquer lógica mais aprofundada de negócios ou outras variáveis. Essa estimativa pode ser livremente modificável, inclusive seus valores a depender do conhecimento específico da área interessada."
   ]
  }
 ],
 "metadata": {
  "kernelspec": {
   "display_name": "a3_case_env",
   "language": "python",
   "name": "python3"
  },
  "language_info": {
   "codemirror_mode": {
    "name": "ipython",
    "version": 3
   },
   "file_extension": ".py",
   "mimetype": "text/x-python",
   "name": "python",
   "nbconvert_exporter": "python",
   "pygments_lexer": "ipython3",
   "version": "3.11.0"
  }
 },
 "nbformat": 4,
 "nbformat_minor": 2
}
